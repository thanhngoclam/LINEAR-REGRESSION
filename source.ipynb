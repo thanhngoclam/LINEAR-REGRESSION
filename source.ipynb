{
 "cells": [
  {
   "cell_type": "markdown",
   "metadata": {},
   "source": [
    "# <center>Đồ án 3: Linear Regression</center>"
   ]
  },
  {
   "cell_type": "markdown",
   "metadata": {},
   "source": [
    "# Thông tin sinh viên\n",
    "\n",
    "- Họ và tên: Lâm Thanh Ngọc\n",
    "- MSSV: 21127118\n",
    "- Lớp: 21CLC02"
   ]
  },
  {
   "cell_type": "markdown",
   "metadata": {},
   "source": [
    "# Import"
   ]
  },
  {
   "cell_type": "code",
   "execution_count": 1,
   "metadata": {},
   "outputs": [],
   "source": [
    "import pandas as pd\n",
    "import numpy as np\n",
    "\n",
    "from sklearn.model_selection import KFold\n",
    "# Import thêm dữ thư viện nếu cần"
   ]
  },
  {
   "cell_type": "markdown",
   "metadata": {},
   "source": [
    "# Đọc dữ liệu"
   ]
  },
  {
   "cell_type": "code",
   "execution_count": 2,
   "metadata": {},
   "outputs": [],
   "source": [
    "# Đọc dữ liệu bằng pandas\n",
    "train = pd.read_csv('train.csv')\n",
    "test = pd.read_csv('test.csv')\n",
    "\n",
    "# Lấy các đặc trưng X và giá trị mục tiêu y cho các tập huấn luyện (train) và kiểm tra (test)\n",
    "X_train = train.iloc[:, :-1]    # Dataframe (chứa các đặc trưng huấn luyện) -> X_1a\n",
    "y_train = train.iloc[:, -1]     # Series    (chứa 1 giá trị mục tiêu kiểm tra)\n",
    "\n",
    "X_test = test.iloc[:, :-1]      # Dataframe (chứa các đặc trưng kiểm tra)\n",
    "y_test = test.iloc[:, -1]       # Series    (chứa 1 giá trị mục tiêu kiểm tra)\n",
    "\n",
    "# Sinh viên có thể sử dụng các khác nếu cần"
   ]
  },
  {
   "cell_type": "markdown",
   "metadata": {},
   "source": [
    "# Cài đặt hàm"
   ]
  },
  {
   "cell_type": "code",
   "execution_count": 3,
   "metadata": {},
   "outputs": [],
   "source": [
    "# Cài đặt các hàm cần thiết ở đây\n",
    "class OLSLinearRegression:\n",
    "    def fit(self, X, y):\n",
    "        X_pinv = np.linalg.inv(X.T @ X) @ X.T    # np.linalg.pinv(X)\n",
    "        self.w = X_pinv @ y\n",
    "\n",
    "        return self\n",
    "\n",
    "    def get_params(self):\n",
    "        return self.w\n",
    "\n",
    "\n",
    "    def predict(self, X):\n",
    "        return np.sum(self.w.ravel() * X, axis=1)"
   ]
  },
  {
   "cell_type": "code",
   "execution_count": 4,
   "metadata": {},
   "outputs": [],
   "source": [
    "def mae(y, y_hat):\n",
    "    return np.mean(np.abs(y.ravel() - y_hat.ravel()))"
   ]
  },
  {
   "cell_type": "markdown",
   "metadata": {},
   "source": [
    "# Yêu cầu 1a: Sử dụng toàn bộ 11 đặc trưng đầu tiên `Gender`, `10percentage`, `12percentage`, `CollegeTier`, `Degree`, `collegeGPA`, `CollegeCityTier`, `English`, `Logical`, `Quant`, `Domain` (2 điểm) "
   ]
  },
  {
   "cell_type": "code",
   "execution_count": 5,
   "metadata": {},
   "outputs": [],
   "source": [
    "# Phần code cho yêu cầu 1a\n",
    "X_1a_train = train.iloc[:, :11]\n",
    "X_1a_test = test.iloc[:, :11]\n",
    "\n",
    "lr_1a = OLSLinearRegression().fit(X_1a_train, y_train)\n",
    "lr_1a.get_params()\n",
    "Y_1a_test = lr_1a.predict(X_1a_test)"
   ]
  },
  {
   "cell_type": "code",
   "execution_count": 6,
   "metadata": {},
   "outputs": [
    {
     "data": {
      "text/plain": [
       "104863.77754033149"
      ]
     },
     "execution_count": 6,
     "metadata": {},
     "output_type": "execute_result"
    }
   ],
   "source": [
    "# Gọi hàm MAE (tự cài đặt hoặc từ thư viện) trên tập kiểm tra\n",
    "mae(y_test, Y_1a_test)"
   ]
  },
  {
   "cell_type": "markdown",
   "metadata": {},
   "source": [
    "Công thức hồi quy (phần trọng số làm tròn đến 3 chữ số thập phân, ví dụ 0.012345 $\\to$ 0.012)\n",
    "\n",
    "$$\\text{Salary} = \\text{Gender} * (-22756.513) + \\text{10percentage} * 804.503 + \\text{12percentage} * 1294.655$$\n",
    "$$ + \\text{CollegeTier} * (-91781.898) + \\text{Degree} * 23182.389 + \\text{collegeGPA} * 1437.549 + \\text{CollegeCityTier}$$\n",
    "$$ * (-8570.662) + \\text{English} * 147.858 + \\text{Logical} * 152.888 + \\text{Quant} * 117.222 + \\text{Domain} * 34552.286$$"
   ]
  },
  {
   "cell_type": "markdown",
   "metadata": {},
   "source": [
    "# Yêu cầu 1b: Xây dựng mô hình sử dụng duy nhất 1 đặc trưng tính cách với các đặc trưng tính cách gồm `conscientiousness`, `agreeableness`, `extraversion`, `nueroticism`, `openess_to_experience`, tìm mô hình cho kết quả tốt nhất (1 điểm) "
   ]
  },
  {
   "cell_type": "markdown",
   "metadata": {},
   "source": [
    "Lưu ý: khi sử dụng cross-validation, sinh viên cần xáo trộn dữ liệu 1 lần duy nhất và thực hiện trên toàn bộ đặc trưng"
   ]
  },
  {
   "cell_type": "code",
   "execution_count": 7,
   "metadata": {},
   "outputs": [
    {
     "name": "stdout",
     "output_type": "stream",
     "text": [
      "Best feature:  nueroticism\n",
      "MAE:  [306309.20177532476, 300912.6776780873, 307030.1026896982, 299590.04982342874, 302957.69185422716]\n"
     ]
    }
   ],
   "source": [
    "# Phần code cho yêu cầu 1b\n",
    "\n",
    "X_1b_cv_train = train.iloc[:, -6:-1] # Lấy ra các đặc trưng tính cách của tập train (5 đặc trưng)\n",
    "X_1b_cv_test = test.iloc[:, -6:-1] # Lấy ra các đặc trưng tính cách của tập test (5 đặc trưng)\n",
    "\n",
    "mean_mae = []\n",
    "\n",
    "kfold = KFold(n_splits=5, shuffle=True, random_state=42)\n",
    "\n",
    "for i in X_1b_cv_train.keys():\n",
    "    mae_list = [] # Danh sách lưu các độ lỗi MAE của mô hình với các đặc trưng\n",
    "    \n",
    "    for train, test in kfold.split(X_1b_cv_train):\n",
    "        # Lấy ra đặc trưng thứ i của tập train\n",
    "        X_cv_train, X_cv_test = X_1b_cv_train.loc[train, [i]], X_1b_cv_train.loc[test, [i]]\n",
    "        y_cv_train, y_cv_test = y_train[train], y_train[test]\n",
    "\n",
    "        lr_cv_1b = OLSLinearRegression().fit(X_cv_train, y_cv_train)\n",
    "        y_cv_1b = lr_cv_1b.predict(X_cv_test)\n",
    "        \n",
    "        mae_list.append(mae(y_cv_test, y_cv_1b)) # Tính độ lỗi MAE của mô hình với đặc trưng thứ i\n",
    "        \n",
    "    mean_mae.append(np.mean(mae_list)) # Tính độ lỗi MAE trung bình của mô hình với đặc trưng thứ i\n",
    "\n",
    "# Tìm ra đặc trưng tốt nhất\n",
    "best_feature = X_1b_cv_train.keys()[mean_mae.index(min(mean_mae))]\n",
    "print(\"Best feature: \", best_feature)\n",
    "\n",
    "# In ra các kết quả cross-validation như yêu cầu\n",
    "print(\"MAE: \", mean_mae)"
   ]
  },
  {
   "cell_type": "markdown",
   "metadata": {},
   "source": [
    "<center>\n",
    "\n",
    "| STT | Mô hình với 1 đặc trưng | MAE  |\n",
    "|:---:|:-----------------------:|:----:|\n",
    "|  1  | conscientiousness       |306309.202|\n",
    "|  2  | agreeableness           |300912.678|\n",
    "|  3  | extraversion            |307030.103|\n",
    "|  4  | neuroticism             |299590.050|\n",
    "|  5  | openness_to_experience  |302957.692|\n",
    "\n",
    "</center>"
   ]
  },
  {
   "cell_type": "code",
   "execution_count": 8,
   "metadata": {},
   "outputs": [],
   "source": [
    "# Đọc dữ liệu bằng pandas\n",
    "train = pd.read_csv('train.csv')\n",
    "test = pd.read_csv('test.csv')\n",
    "\n",
    "# Lấy các đặc trưng X và giá trị mục tiêu y cho các tập huấn luyện (train) và kiểm tra (test)\n",
    "X_train = train.iloc[:, :-1]    # Dataframe (chứa các đặc trưng huấn luyện) -> X_1a\n",
    "y_train = train.iloc[:, -1]     # Series    (chứa 1 giá trị mục tiêu kiểm tra)\n",
    "\n",
    "X_test = test.iloc[:, :-1]      # Dataframe (chứa các đặc trưng kiểm tra)\n",
    "y_test = test.iloc[:, -1]       # Series    (chứa 1 giá trị mục tiêu kiểm tra)\n",
    "\n",
    "# Sinh viên có thể sử dụng các khác nếu cần"
   ]
  },
  {
   "cell_type": "code",
   "execution_count": 9,
   "metadata": {},
   "outputs": [
    {
     "name": "stdout",
     "output_type": "stream",
     "text": [
      "0   -56546.303753\n",
      "dtype: float64\n"
     ]
    }
   ],
   "source": [
    "# Huấn luyện lại mô hình best_personality_feature_model với đặc trưng tốt nhất trên toàn bộ tập huấn luyện\n",
    "best_personality_feature_model = train.loc[:, [best_feature]]\n",
    "X_1b_test = test.loc[:, [best_feature]]\n",
    "\n",
    "lr_1b = OLSLinearRegression().fit(best_personality_feature_model, y_train)\n",
    "lr_1b.get_params()\n",
    "print(lr_1b.get_params())\n",
    "y_1b = lr_1b.predict(X_1b_test)"
   ]
  },
  {
   "cell_type": "code",
   "execution_count": 10,
   "metadata": {},
   "outputs": [
    {
     "data": {
      "text/plain": [
       "291019.693226953"
      ]
     },
     "execution_count": 10,
     "metadata": {},
     "output_type": "execute_result"
    }
   ],
   "source": [
    "# Gọi hàm MAE (tự cài đặt hoặc từ thư viện) trên tập kiểm tra với mô hình best_personality_feature_model\n",
    "mae(y_test, y_1b)"
   ]
  },
  {
   "cell_type": "markdown",
   "metadata": {},
   "source": [
    "Công thức hồi quy (phần trọng số làm tròn đến 3 chữ số thập phân, ví dụ 0.012345 $\\to$ 0.012)\n",
    "\n",
    "$$\\text{Salary} = (-56546.304) * nueroticism$$"
   ]
  },
  {
   "cell_type": "markdown",
   "metadata": {},
   "source": [
    "# Yêu cầu 1c: Xây dựng mô hình sử dụng duy nhất 1 đặc trưng `English`, `Logical`, `Quant`, tìm mô hình cho kết quả tốt nhất (1 điểm)"
   ]
  },
  {
   "cell_type": "markdown",
   "metadata": {},
   "source": [
    "Lưu ý: khi sử dụng cross-validation, sinh viên cần xáo trộn dữ liệu 1 lần duy nhất và thực hiện trên toàn bộ đặc trưng"
   ]
  },
  {
   "cell_type": "code",
   "execution_count": 11,
   "metadata": {},
   "outputs": [],
   "source": [
    "# Đọc dữ liệu bằng pandas\n",
    "train = pd.read_csv('train.csv')\n",
    "test = pd.read_csv('test.csv')\n",
    "\n",
    "# Lấy các đặc trưng X và giá trị mục tiêu y cho các tập huấn luyện (train) và kiểm tra (test)\n",
    "X_train = train.iloc[:, :-1]    # Dataframe (chứa các đặc trưng huấn luyện) -> X_1a\n",
    "y_train = train.iloc[:, -1]     # Series    (chứa 1 giá trị mục tiêu kiểm tra)\n",
    "\n",
    "X_test = test.iloc[:, :-1]      # Dataframe (chứa các đặc trưng kiểm tra)\n",
    "y_test = test.iloc[:, -1]       # Series    (chứa 1 giá trị mục tiêu kiểm tra)\n",
    "\n",
    "# Sinh viên có thể sử dụng các khác nếu cần"
   ]
  },
  {
   "cell_type": "code",
   "execution_count": 12,
   "metadata": {},
   "outputs": [
    {
     "name": "stdout",
     "output_type": "stream",
     "text": [
      "Best skill:  Quant\n",
      "MAE:  [121925.88431534174, 120274.77773746487, 118124.52445576759]\n"
     ]
    }
   ],
   "source": [
    "# Phần code cho yêu cầu 1c\n",
    "\n",
    "X_1c_cv_train = train.iloc[:, 7:10] # Lấy ra các đặc trưng tính cách của tập train (5 đặc trưng)\n",
    "X_1c_cv_test = test.iloc[:, 7:10] # Lấy ra các đặc trưng tính cách của tập test (5 đặc trưng)\n",
    "\n",
    "mean_mae = []\n",
    "\n",
    "kfold = KFold(n_splits=5, shuffle=True, random_state=42)\n",
    "\n",
    "for i in X_1c_cv_train.keys():\n",
    "    mae_list = [] # Danh sách lưu các độ lỗi MAE của mô hình với các đặc trưng\n",
    "    \n",
    "    for train, test in kfold.split(X_1c_cv_train):\n",
    "        # Lấy ra đặc trưng thứ i của tập train\n",
    "        X_cv_train, X_cv_test = X_1c_cv_train.loc[train, [i]], X_1c_cv_train.loc[test, [i]]\n",
    "        y_cv_train, y_cv_test = y_train[train], y_train[test]\n",
    "\n",
    "        lr_cv_1c = OLSLinearRegression().fit(X_cv_train, y_cv_train)\n",
    "        y_cv_1c = lr_cv_1c.predict(X_cv_test)\n",
    "        \n",
    "        mae_list.append(mae(y_cv_test, y_cv_1c))\n",
    "        \n",
    "    mean_mae.append(np.mean(mae_list)) # Tính độ lỗi MAE của mô hình với đặc trưng thứ i\n",
    "\n",
    "# Tìm ra đặc trưng tốt nhất\n",
    "best_skill = X_1c_cv_train.keys()[mean_mae.index(min(mean_mae))]\n",
    "print(\"Best skill: \", best_skill)\n",
    "\n",
    "# In ra các kết quả cross-validation như yêu cầu\n",
    "print(\"MAE: \", mean_mae)"
   ]
  },
  {
   "cell_type": "markdown",
   "metadata": {},
   "source": [
    "<center>\n",
    "\n",
    "| STT | Mô hình với 1 đặc trưng | MAE  |\n",
    "|:---:|:-----------------------:|:----:|\n",
    "|  1  | English\t\t\t        |121925.884|\n",
    "|  2  | Logical\t\t            |120274.778|\n",
    "|  3  | Quant\t\t            |118124.524|\n",
    "\n",
    "</center>"
   ]
  },
  {
   "cell_type": "code",
   "execution_count": 13,
   "metadata": {},
   "outputs": [],
   "source": [
    "# Đọc dữ liệu bằng pandas\n",
    "train = pd.read_csv('train.csv')\n",
    "test = pd.read_csv('test.csv')\n",
    "\n",
    "# Lấy các đặc trưng X và giá trị mục tiêu y cho các tập huấn luyện (train) và kiểm tra (test)\n",
    "X_train = train.iloc[:, :-1]    # Dataframe (chứa các đặc trưng huấn luyện) -> X_1a\n",
    "y_train = train.iloc[:, -1]     # Series    (chứa 1 giá trị mục tiêu kiểm tra)\n",
    "\n",
    "X_test = test.iloc[:, :-1]      # Dataframe (chứa các đặc trưng kiểm tra)\n",
    "y_test = test.iloc[:, -1]       # Series    (chứa 1 giá trị mục tiêu kiểm tra)\n",
    "\n",
    "# Sinh viên có thể sử dụng các khác nếu cần"
   ]
  },
  {
   "cell_type": "code",
   "execution_count": 14,
   "metadata": {},
   "outputs": [],
   "source": [
    "# Huấn luyện lại mô hình best_skill_feature_model với đặc trưng tốt nhất trên toàn bộ tập huấn luyện\n",
    "best_skill_feature_model = train.loc[:, [best_skill]]\n",
    "X_1c_test = test.loc[:, [best_feature]]\n",
    "\n",
    "lr_1c = OLSLinearRegression().fit(best_skill_feature_model, y_train)\n",
    "lr_1c.get_params()\n",
    "#print(lr_1c.get_params())\n",
    "y_1c = lr_1c.predict(X_1c_test)"
   ]
  },
  {
   "cell_type": "markdown",
   "metadata": {},
   "source": [
    "Công thức hồi quy (phần trọng số làm tròn đến 3 chữ số thập phân, ví dụ 0.012345 $\\to$ 0.012)\n",
    "\n",
    "$$\\text{Salary} = 585.895 * Quant$$"
   ]
  },
  {
   "cell_type": "markdown",
   "metadata": {},
   "source": [
    "# Yêu cầu 1d: Sinh viên tự xây dựng mô hình, tìm mô hình cho kết quả tốt nhất (3 điểm)"
   ]
  },
  {
   "cell_type": "markdown",
   "metadata": {},
   "source": [
    "Lưu ý: khi sử dụng cross-validation, sinh viên cần xáo trộn dữ liệu 1 lần duy nhất và thực hiện trên toàn bộ $m$ mô hình mà sinh viên thiết kế"
   ]
  },
  {
   "cell_type": "markdown",
   "metadata": {},
   "source": [
    "## Tìm mô hình"
   ]
  },
  {
   "cell_type": "code",
   "execution_count": 15,
   "metadata": {},
   "outputs": [],
   "source": [
    "# Trình bày các phần tìm ra mô hình"
   ]
  },
  {
   "cell_type": "markdown",
   "metadata": {},
   "source": [
    "## Thử nghiệm, so sánh các mô hình"
   ]
  },
  {
   "cell_type": "code",
   "execution_count": 16,
   "metadata": {},
   "outputs": [],
   "source": [
    "# Phần code cho yêu cầu 1d\n",
    "# Tìm ra mô hình tốt nhất (tự thiết kế bởi sinh viên)\n",
    "# In ra các kết quả cross-validation như yêu cầu"
   ]
  },
  {
   "cell_type": "markdown",
   "metadata": {},
   "source": [
    "    Mô hình 1"
   ]
  },
  {
   "cell_type": "code",
   "execution_count": 17,
   "metadata": {},
   "outputs": [],
   "source": [
    "# Đọc dữ liệu bằng pandas\n",
    "train = pd.read_csv('train.csv')\n",
    "test = pd.read_csv('test.csv')\n",
    "\n",
    "# Lấy các đặc trưng X và giá trị mục tiêu y cho các tập huấn luyện (train) và kiểm tra (test)\n",
    "X_train = train.iloc[:, :-1]    # Dataframe (chứa các đặc trưng huấn luyện)\n",
    "y_train = train.iloc[:, -1]     # Series    (chứa 1 giá trị mục tiêu kiểm tra)\n",
    "\n",
    "X_test = test.iloc[:, :-1]      # Dataframe (chứa các đặc trưng kiểm tra)\n",
    "y_test = test.iloc[:, -1]       # Series    (chứa 1 giá trị mục tiêu kiểm tra)\n"
   ]
  },
  {
   "cell_type": "code",
   "execution_count": 18,
   "metadata": {},
   "outputs": [],
   "source": [
    "# Phần code cho yêu cầu 1d\n",
    "\n",
    "X_1d_cv_train_1 = X_train\n",
    "X_1d_cv_test_1 = X_test\n",
    "\n",
    "mae_1 = []\n",
    "\n",
    "kfold = KFold(n_splits=5, shuffle=True, random_state=42)\n",
    "\n",
    "for train, test in kfold.split(X_1d_cv_train_1):\n",
    "    # Lấy ra đặc trưng thứ i của tập train\n",
    "    X_cv_train_1, X_cv_test_1 = X_1d_cv_train_1.loc[train], X_1d_cv_train_1.loc[test]\n",
    "    y_cv_train_1, y_cv_test_1 = y_train[train], y_train[test]\n",
    "\n",
    "    lr_cv_1d_1 = OLSLinearRegression().fit(X_cv_train_1, y_cv_train_1)\n",
    "    y_cv_1d_1 = lr_cv_1d_1.predict(X_cv_test_1)\n",
    "\n",
    "    mae_1.append(mae(y_cv_test_1, y_cv_1d_1))\n",
    "\n",
    "mean_mae_1 = np.mean(mae_1)\n"
   ]
  },
  {
   "cell_type": "markdown",
   "metadata": {},
   "source": [
    "    Mô hình 2"
   ]
  },
  {
   "cell_type": "code",
   "execution_count": 19,
   "metadata": {},
   "outputs": [],
   "source": [
    "# Đọc dữ liệu bằng pandas\n",
    "train = pd.read_csv('train.csv')\n",
    "test = pd.read_csv('test.csv')\n",
    "\n",
    "# Lấy các đặc trưng X và giá trị mục tiêu y cho các tập huấn luyện (train) và kiểm tra (test)\n",
    "X_train = train.iloc[:, :-1]    # Dataframe (chứa các đặc trưng huấn luyện)\n",
    "y_train = train.iloc[:, -1]     # Series    (chứa 1 giá trị mục tiêu kiểm tra)\n",
    "\n",
    "X_test = test.iloc[:, :-1]      # Dataframe (chứa các đặc trưng kiểm tra)\n",
    "y_test = test.iloc[:, -1]       # Series    (chứa 1 giá trị mục tiêu kiểm tra)\n"
   ]
  },
  {
   "cell_type": "code",
   "execution_count": 20,
   "metadata": {},
   "outputs": [],
   "source": [
    "X_1d_cv_train_2 = train.iloc[:, 3:-1]\n",
    "X_1d_cv_test_2 = test.iloc[:, 3:-1]\n",
    "\n",
    "mae_2 = []\n",
    "\n",
    "# for i in X_1d_cv_train_2.keys():\n",
    "#     mae_list = [] # Danh sách lưu các độ lỗi MAE của mô hình với các đặc trưng\n",
    "for train2, test2 in kfold.split(X_1d_cv_train_2):\n",
    "    # Lấy ra đặc trưng thứ i của tập train\n",
    "    X_cv_train_2, X_cv_test_2 = X_1d_cv_train_2.loc[train2], X_1d_cv_train_2.loc[test2]\n",
    "    y_cv_train_2, y_cv_test_2 = y_train[train2], y_train[test2]\n",
    "\n",
    "    lr_cv_1d_2 = OLSLinearRegression().fit(X_cv_train_2, y_cv_train_2)\n",
    "    y_cv_1d_2 = lr_cv_1d_2.predict(X_cv_test_2)\n",
    "\n",
    "    mae_2.append(mae(y_cv_test_2, y_cv_1d_2))\n",
    "#mae_2.append(np.mean(mae_list)) # Tính độ lỗi MAE của mô hình với đặc trưng thứ i\n",
    "    \n",
    "mean_mae_2 = np.mean(mae_2)"
   ]
  },
  {
   "cell_type": "markdown",
   "metadata": {},
   "source": [
    "    Mô hình 3"
   ]
  },
  {
   "cell_type": "code",
   "execution_count": 21,
   "metadata": {},
   "outputs": [],
   "source": [
    "# Đọc dữ liệu bằng pandas\n",
    "train = pd.read_csv('train.csv')\n",
    "test = pd.read_csv('test.csv')\n",
    "\n",
    "# Lấy các đặc trưng X và giá trị mục tiêu y cho các tập huấn luyện (train) và kiểm tra (test)\n",
    "X_train = train.iloc[:, :-1]    # Dataframe (chứa các đặc trưng huấn luyện)\n",
    "y_train = train.iloc[:, -1]     # Series    (chứa 1 giá trị mục tiêu kiểm tra)\n",
    "\n",
    "X_test = test.iloc[:, :-1]      # Dataframe (chứa các đặc trưng kiểm tra)\n",
    "y_test = test.iloc[:, -1]       # Series    (chứa 1 giá trị mục tiêu kiểm tra)"
   ]
  },
  {
   "cell_type": "code",
   "execution_count": 22,
   "metadata": {},
   "outputs": [],
   "source": [
    "X_1d_cv_train_3 = pd.concat([X_1a_train, X_1b_cv_train], axis=1)\n",
    "X_1d_cv_test_3 = pd.concat([X_1a_test, X_1b_cv_test], axis=1)\n",
    "\n",
    "mae_3 = []\n",
    "\n",
    "# for i in X_1d_cv_train_3.keys():\n",
    "#     mae_list = [] # Danh sách lưu các độ lỗi MAE của mô hình với các đặc trưng\n",
    "for train3, test3 in kfold.split(X_1d_cv_train_3):\n",
    "    # Lấy ra đặc trưng thứ i của tập train\n",
    "    X_cv_train_3, X_cv_test_3 = X_1d_cv_train_3.loc[train3], X_1d_cv_train_3.loc[test3]\n",
    "    y_cv_train_3, y_cv_test_3 = y_train[train3], y_train[test3]\n",
    "\n",
    "    lr_cv_1d_3 = OLSLinearRegression().fit(X_cv_train_3, y_cv_train_3)\n",
    "    y_cv_1d_3 = lr_cv_1d_3.predict(X_cv_test_3)\n",
    "\n",
    "    mae_3.append(mae(y_cv_test_3, y_cv_1d_3))\n",
    "#mae_3.append(np.mean(mae_list)) # Tính độ lỗi MAE của mô hình với đặc trưng thứ i\n",
    "    \n",
    "mean_mae_3 = np.mean(mae_3)"
   ]
  },
  {
   "cell_type": "markdown",
   "metadata": {},
   "source": [
    "    Mô hình tốt nhất"
   ]
  },
  {
   "cell_type": "code",
   "execution_count": 23,
   "metadata": {},
   "outputs": [
    {
     "name": "stdout",
     "output_type": "stream",
     "text": [
      "Best model:  0\n",
      "MAE:  [110420.41377587737, 111724.32684927108, 113088.91774985948]\n"
     ]
    }
   ],
   "source": [
    "# Tìm ra mô hình tốt nhất\n",
    "\n",
    "best_model = [mean_mae_1, mean_mae_2, mean_mae_3].index(min([mean_mae_1, mean_mae_2, mean_mae_3]))\n",
    "print(\"Best model: \", best_model)\n",
    "\n",
    "# In ra các kết quả cross-validation như yêu cầu\n",
    "print(\"MAE: \", [mean_mae_1, mean_mae_2, mean_mae_3])"
   ]
  },
  {
   "cell_type": "markdown",
   "metadata": {},
   "source": [
    "<center>\n",
    "\n",
    "| STT |                     Mô hình                       |     MAE    |\n",
    "|:---:|:-------------------------------------------------:|:----------:|\n",
    "|  1  | Sử dụng toàn bộ đặc trưng                         | 110420.414 |\n",
    "|  2  | Bỏ 3 đặc tính Gender, 10percentage, 12percentage  | 111724.327 |\n",
    "|  3  | Gộp các đặc trưng câu 1a và 1b                    | 113088.918 |\n",
    "\n",
    "</center>"
   ]
  },
  {
   "cell_type": "code",
   "execution_count": 24,
   "metadata": {},
   "outputs": [
    {
     "name": "stdout",
     "output_type": "stream",
     "text": [
      "0    -23874.541727\n",
      "1       898.575621\n",
      "2      1203.496112\n",
      "3    -83592.387591\n",
      "4     11515.430757\n",
      "5      1626.518605\n",
      "6     -5717.733852\n",
      "7       153.434567\n",
      "8       120.511333\n",
      "9       102.580853\n",
      "10    27939.639602\n",
      "11       76.730246\n",
      "12      -47.746793\n",
      "13     -177.387649\n",
      "14       33.932559\n",
      "15     -151.471153\n",
      "16      -64.197706\n",
      "17      145.894996\n",
      "18   -19814.830268\n",
      "19    15503.266941\n",
      "20     4908.582006\n",
      "21   -10661.029100\n",
      "22    -5815.021280\n",
      "dtype: float64\n"
     ]
    }
   ],
   "source": [
    "X_1d_train = X_1d_cv_train_1\n",
    "X_1d_test = X_1d_cv_test_1\n",
    "\n",
    "lr_1d = OLSLinearRegression().fit(X_1d_train, y_train)\n",
    "lr_1d.get_params()\n",
    "print(lr_1d.get_params())\n",
    "y_1d = lr_1d.predict(X_1d_test)"
   ]
  },
  {
   "cell_type": "code",
   "execution_count": 25,
   "metadata": {},
   "outputs": [
    {
     "data": {
      "text/plain": [
       "101872.2105661925"
      ]
     },
     "execution_count": 25,
     "metadata": {},
     "output_type": "execute_result"
    }
   ],
   "source": [
    "mae(y_test, y_1d)"
   ]
  },
  {
   "cell_type": "markdown",
   "metadata": {},
   "source": [
    "Công thức hồi quy (phần trọng số làm tròn đến 3 chữ số thập phân, ví dụ 0.012345 $\\to$ 0.012)\n",
    "\n",
    "$$\\text{Salary} = -23874.542 * Gender + 898.576 * 10percentage + 1203.496 * 12percentage -83592.388$$ \n",
    "$$ * CollegeTier + 11515.431 * Degree + 1626.519 * CollegeGPA - 5717.734 * CollegeCityTier$$\n",
    "$$ + 153.435 * English + 120.511 * Logical + 102.581 * Quant + 27939.640 * Domain + 76.730 * $$ \n",
    "$$ ComputerProgramming - 47.747 * ElectronicsAndSemicon - 177.387 * ComputerScience + 33.932 * $$ \n",
    "$$ MechanicalEngg - 151.471 * ElectricalEngg - 64.198 * TelecomEngg + 145.894 * CivilEngg $$ \n",
    "$$ - 19814.830 * conscientiousness + 15503.266 * agreeableness + 4908.582 * extraversion$$\n",
    "$$ - 10661.029 * nueroticism - 5815.021 * openess\\_to\\_experience$$"
   ]
  }
 ],
 "metadata": {
  "kernelspec": {
   "display_name": "Python 3.8.5 ('base')",
   "language": "python",
   "name": "python3"
  },
  "language_info": {
   "codemirror_mode": {
    "name": "ipython",
    "version": 3
   },
   "file_extension": ".py",
   "mimetype": "text/x-python",
   "name": "python",
   "nbconvert_exporter": "python",
   "pygments_lexer": "ipython3",
   "version": "3.10.9"
  },
  "orig_nbformat": 4,
  "vscode": {
   "interpreter": {
    "hash": "15af99fd1a1a3f0a3416ea421564e792a8676a13670c2eed127d89ab0518a27b"
   }
  }
 },
 "nbformat": 4,
 "nbformat_minor": 2
}
